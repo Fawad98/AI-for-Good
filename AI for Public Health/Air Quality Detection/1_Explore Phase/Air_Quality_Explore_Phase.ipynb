{
 "cells": [
  {
   "cell_type": "markdown",
   "metadata": {},
   "source": [
    "# Air Quality: - Explore the Data\n",
    "\n",
    "In this notebook, you will explore the Bogotá air quality data. The dataset came from the Bogotá Air Quality Monitoring Network [Red de Monitoreo de Calidad del Aire de Bogotá (RMCAB)](http://201.245.192.252:81/home/map). The steps you will complete in this notebook are the following: \n",
    "\n",
    "1. Import Python packages\n",
    "2. Load the data\n",
    "3. Count null values\n",
    "4. Plot histograms of different pollutants\n",
    "5. Make boxplots of pollutants at each measurement station\n",
    "6. Investigate scatterplots of different pollutants and look for correlation\n",
    "7. Generate simultaneous scatterplots and histograms across all pollutants\n",
    "8. Construct a correlation matrix to quantitatively look for correlation\n",
    "9. Look at measurements over time for different pollutants at different stations\n",
    "10. Visualize the data in a map representation"
   ]
  },
  {
   "cell_type": "markdown",
   "metadata": {},
   "source": [
    "## 1. Import Python packages\n",
    "\n",
    "Run the next cell to import the Python packages you'll be using in this lab exercise. This is a common first step whenever working with Python. If everything goes well you should see a message when the cell has finished running that says \"All packages imported successfully!\".\n",
    "\n",
    "Note the `import utils` line. This line imports the functions that were specifically written for this lab. If you want to look at what these functions are, go to `File -> Open...` and open the `utils.py` file to have a look."
   ]
  },
  {
   "cell_type": "code",
   "execution_count": 1,
   "metadata": {},
   "outputs": [
    {
     "name": "stdout",
     "output_type": "stream",
     "text": [
      "All packages imported successfully!\n"
     ]
    }
   ],
   "source": [
    "# Import packages\n",
    "import pandas as pd # package for reading in and manipulating data\n",
    "from datetime import datetime # package for manipulating dates\n",
    "\n",
    "import utils # utils functions defined for this lab\n",
    "\n",
    "print('All packages imported successfully!')"
   ]
  },
  {
   "cell_type": "markdown",
   "metadata": {},
   "source": [
    "## 2. Load the data\n",
    "\n",
    "Run the next cell to load the Bogotá air quality data. \n",
    "\n",
    "1. With the first line of code you are using the `pandas` package to read the csv file containing the data into a \"dataframe\" called `raw_data`. A dataframe is just a convenient format you can use for accessing and manipulating tabular data. \n",
    "2. With the second line of code you will modify the `DateTime` column for better formatting.\n",
    "3. With the third line you rename the column \"OZONO\" to \"OZONE\".\n",
    "4. With the fourth line you are just creating a list all of the pollutants for later use in this lab. \n",
    "5. With the fifth line of code you are printing out the number of rows in the dataset.\n",
    "6. With the last line you are printing the first five lines of the dataframe. "
   ]
  },
  {
   "cell_type": "code",
   "execution_count": null,
   "metadata": {
    "scrolled": true
   },
   "outputs": [],
   "source": [
    "# This is a code comment! \n",
    "# Code comments always start with a \"#\" symbol\n",
    "# You'll see comments throughout the code describing what the code is doing\n",
    "\n",
    "# Read in the data\n",
    "raw_data = pd.read_csv('data/RMCAB_air_quality_sensor_data.csv')\n",
    "\n",
    "# Modify the DateTime column format\n",
    "raw_data['DateTime'] = pd.to_datetime(utils.fix_dates(raw_data, 'DateTime'), dayfirst=True)\n",
    "# Rename \"OZONO\" column from Spanish to English\n",
    "raw_data = raw_data.rename(columns={'OZONO': 'OZONE'})\n",
    "\n",
    "# List all of the pollutants that you will be working with\n",
    "pollutants_list = ['PM2.5', 'PM10',  'NO', 'NO2', 'NOX', 'CO', 'OZONE']\n",
    "\n",
    "# Print out the number of lines in the dataframe\n",
    "print(f\"The dataset contains {len(raw_data)} entries\")\n",
    "\n",
    "# Print out the first few lines in the dataframe\n",
    "raw_data.head(5)"
   ]
  },
  {
   "cell_type": "markdown",
   "metadata": {},
   "source": [
    "## 3. Count null values\n",
    "\n",
    "A ***null value*** is another word for missing data values. Run the cell below to print out a count of the number of null values in each column of the dataset"
   ]
  },
  {
   "cell_type": "code",
   "execution_count": null,
   "metadata": {},
   "outputs": [],
   "source": [
    "# Print out a count of null values for each column in the dataset\n",
    "raw_data.isnull().sum()"
   ]
  },
  {
   "cell_type": "markdown",
   "metadata": {},
   "source": [
    "## 4. Plot histograms of different pollutants\n",
    "\n",
    "A histogram is a way to investigate the distribution of your data by counting up the values across a series of bins that span the range of the data. Run the next cell to plot a histogram of a particular pollutant for particular sensor station. You can use the pulldown menus to select different pollutants and different sensor stations. Have a look at how the distribution looks for a particular pollutant across different sensor stations, as well as the distributions of different pollutants. "
   ]
  },
  {
   "cell_type": "code",
   "execution_count": null,
   "metadata": {},
   "outputs": [],
   "source": [
    "# Define a number of bins to use (feel free to changes this and see what happens!)\n",
    "number_of_bins=64\n",
    "\n",
    "# Generate histograms\n",
    "utils.create_histogram_plot(raw_data, number_of_bins)"
   ]
  },
  {
   "cell_type": "markdown",
   "metadata": {},
   "source": [
    "## 5. Make box plots of pollutants across all sensor stations\n",
    "\n",
    "Box plots are another way of investigating the distribution of your data. With a boxplot, your range of data values runs along the vertical axis and each \"box with whiskers\" provides you with information on where the median (middle of the box) and middle 50% (vertical range of the box) of your data lies. Outliers, or data points that lie far away from the overall pattern of the data are also plotted on the vertical axis. In this case, there’s one box plot each for every sensor station. \n",
    "\n",
    "Run the next cell to generate box plots and use the pulldown menu to look at the distributions for different pollutants. "
   ]
  },
  {
   "cell_type": "code",
   "execution_count": null,
   "metadata": {
    "scrolled": false
   },
   "outputs": [],
   "source": [
    "# Generate boxplots of pollutant values for each sensor station\n",
    "utils.create_boxplot(raw_data)"
   ]
  },
  {
   "cell_type": "markdown",
   "metadata": {},
   "source": [
    "## 6. Investigate scatter plots of different pollutants and look for correlation\n",
    "\n",
    "Scatterplots are useful for looking at the relationship (or lack thereof) between two variables. Run the cell below to generate scatterplots of one pollutant plotted against another. Use the pulldown menus to investigate the relationship between different pollutants. Do any of the pollutants appear to be correlated with one another? \n",
    "The colors on the plot show the concentration of the points. Areas of the plot that appear from blue to green, to red and orange show an increasing density of points. "
   ]
  },
  {
   "cell_type": "code",
   "execution_count": null,
   "metadata": {},
   "outputs": [],
   "source": [
    "# Generate scatterplots of different pollutants against one another\n",
    "# Different colors show various densities of points on the plot\n",
    "utils.create_scatterplot(raw_data)"
   ]
  },
  {
   "cell_type": "markdown",
   "metadata": {},
   "source": [
    "## 7. Generate simultaneous scatterplots and histograms across all pollutants\n",
    "\n",
    "With the visualizations above, you have been looking at the distribution of your data and the relationship between different columns in your dataset. Oftentimes, it is helpful to be able to simultaneously look at distributions and relationships, and that's what you'll see when you run the cell below. \n",
    "\n",
    "In the grid of plots you generate, you will see each of the pollutants listed along both the vertical and horizontal axes. In each cell of the grid you'll find either a histogram (where the pollutant listed on the vertical and horizontal axis is the same) or a scatterplot showing the pollutant listed on the vertical axis plotted against the one shown on the horizontal axis. This can be a nice way of quickly investigating distributions and relationships between the data columns. "
   ]
  },
  {
   "cell_type": "code",
   "execution_count": null,
   "metadata": {},
   "outputs": [],
   "source": [
    "# generate a grid of histograms and scatterplots of your data\n",
    "utils.plot_pairplot(raw_data, pollutants_list)"
   ]
  },
  {
   "cell_type": "markdown",
   "metadata": {},
   "source": [
    "## 8. Construct a correlation matrix to quantitatively look for correlation\n",
    "You can use a correlation matrix to see how different variables correlate with each other. The [Pearson correlation coefficient](https://en.wikipedia.org/wiki/Pearson_correlation_coefficient) you'll calculate below is measured between -1 and 1. Numbers closer to 1 or -1 indicate higher levels of correlation between two variables, while values close to 0 indicate no significant correlation between two variables. You can ignore the 1's along the diagonal as those just represent the correlation of each variable with itself. Do you notice any significant correlations? How do these values compare to what you found in the scatterplots? "
   ]
  },
  {
   "cell_type": "code",
   "execution_count": null,
   "metadata": {},
   "outputs": [],
   "source": []
  },
  {
   "cell_type": "markdown",
   "metadata": {},
   "source": [
    "## 9. Look at measurements over time for different pollutants at different stations\n",
    "\n",
    "Run the cell below to generate a plot of pollutant values over time as measured at a particular sensor station. You can use the pulldown menus to choose different stations and pollutants. You can also use the sliders to zoom in or out on a particular range of dates. It's also possible to edit the `start_date` and `end_date` values and run the code cell again to start with a different date range. Have a look across different pollutants and different stations."
   ]
  },
  {
   "cell_type": "code",
   "execution_count": null,
   "metadata": {},
   "outputs": [],
   "source": [
    "# define the date range to show in the plot\n",
    "start_date = datetime(2021, 1, 1)\n",
    "end_date = datetime(2021, 1, 31)\n",
    "# generate a time series plot of pollutant data for a paricular station\n",
    "utils.create_time_series_plot(raw_data, start_date, end_date)"
   ]
  },
  {
   "cell_type": "markdown",
   "metadata": {},
   "source": [
    "## 10. Visualize the data in a map representation\n",
    "\n",
    "Run the next cell to generate a map based on the PM2.5 measurements across the city of Bogotá. Here you'll see a circle on the map at each sensor station location. Each circle is colored based on the annual average of PM2.5 measured at that location. You can click on each sensor location to see a plot of the hourly average (averaged over the whole year for each hour of the day) as well as the long-term average value and the recommended level of PM2.5. If you change where it says `hour_of_day` to `day_of_week` in the code, you'll see the daily average by day of the week in the plot when you click on each station. You can also change the pollutant to display in the map and the charts by changing the `y_variable` below. Have a look at the distribution of long-term averages by hour of day and day of the week at each station and see what you find!"
   ]
  },
  {
   "cell_type": "code",
   "execution_count": null,
   "metadata": {
    "scrolled": false
   },
   "outputs": [],
   "source": [
    "# add some extra features like latitude and longitude to the data for mapping\n",
    "enriched_raw_data = utils.add_extra_features(raw_data)\n",
    "\n",
    "# choose a variable to calculate long-term averages for\n",
    "x_variable = 'hour_of_day' # Options ['day_of_week', 'hour_of_day']\n",
    "# choose a pollutant which you are interested in\n",
    "y_variable = 'PM2.5' # Options ['PM2.5', 'PM10', 'NO', 'NO2', 'NOX', 'CO', 'OZONE']\n",
    "\n",
    "# generate a map representation of the data\n",
    "utils.create_map_with_plots(enriched_raw_data, x_variable, y_variable)"
   ]
  },
  {
   "cell_type": "markdown",
   "metadata": {},
   "source": [
    "## **Congratulations on finishing this lab!**\n",
    "\n",
    "**Keep up the good work :)**"
   ]
  },
  {
   "cell_type": "code",
   "execution_count": null,
   "metadata": {},
   "outputs": [],
   "source": []
  }
 ],
 "metadata": {
  "kernelspec": {
   "display_name": "Python 3",
   "language": "python",
   "name": "python3"
  },
  "language_info": {
   "codemirror_mode": {
    "name": "ipython",
    "version": 3
   },
   "file_extension": ".py",
   "mimetype": "text/x-python",
   "name": "python",
   "nbconvert_exporter": "python",
   "pygments_lexer": "ipython3",
   "version": "3.7.6"
  }
 },
 "nbformat": 4,
 "nbformat_minor": 5
}
